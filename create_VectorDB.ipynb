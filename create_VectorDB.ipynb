{
 "cells": [
  {
   "cell_type": "code",
   "execution_count": 17,
   "metadata": {},
   "outputs": [],
   "source": [
    "from langchain.document_loaders import DirectoryLoader, TextLoader\n",
    "from langchain.text_splitter import RecursiveCharacterTextSplitter\n",
    "from langchain.schema import Document\n",
    "from langchain.vectorstores.faiss import FAISS\n",
    "from langchain.embeddings import HuggingFaceEmbeddings\n",
    "from sentence_transformers import SentenceTransformer, util\n",
    "\n",
    "from tqdm import tqdm\n",
    "import os\n",
    "import shutil\n",
    "\n",
    "data_path = 'nasa_articles/'\n",
    "faiss_path = \"faiss_db\""
   ]
  },
  {
   "cell_type": "code",
   "execution_count": 18,
   "metadata": {},
   "outputs": [
    {
     "name": "stderr",
     "output_type": "stream",
     "text": [
      "100%|██████████| 1000/1000 [00:00<00:00, 3514.02it/s]\n"
     ]
    }
   ],
   "source": [
    "def load_documents():\n",
    "    loader = DirectoryLoader(data_path, glob='*.md', show_progress=True, \n",
    "                             use_multithreading=True, loader_cls=TextLoader)\n",
    "    docs = loader.load()\n",
    "    return docs\n",
    "\n",
    "docs = load_documents()"
   ]
  },
  {
   "cell_type": "code",
   "execution_count": 19,
   "metadata": {},
   "outputs": [
    {
     "name": "stdout",
     "output_type": "stream",
     "text": [
      "Split 1000 documents into 6876 chunks\n",
      "“The silica and parts of the carbonate appear microcrystalline, which makes them extremely good at trapping and preserving signs of microbial life that might have once lived in this environment,” said Sandra Siljeström, a Perseverance scientist from the Research Institutes of Sweden (RISE) in Stockholm. “That makes this sample great for biosignature studies if returned to Earth. Additionally, the sample might be one of the older cores collected so far by Perseverance, and that is important because Mars was at its most habitable early in its history.” A potential biosignature is a substance or structure that could be evidence of past life but may also have been produced without the presence of life.\n",
      "\n",
      "The Bunsen Peak sample is the third that Perseverance has collected while exploring the “Margin Unit,” a geologic area that hugs the inner edge of Jezero Crater’s rim.\n",
      "{'source': 'nasa_articles/nasa_article_355.md', 'start_index': 3068}\n"
     ]
    }
   ],
   "source": [
    "# Split the documents into chunks so we can retrieve information more granularly (rather than the entire document)\n",
    "\n",
    "def split_text(documents: list[Document]):\n",
    "    text_splitter = RecursiveCharacterTextSplitter(\n",
    "        chunk_size= 1000,\n",
    "        chunk_overlap = 500,\n",
    "        length_function = len,\n",
    "        add_start_index = True,\n",
    "    )\n",
    "\n",
    "    chunks = text_splitter.split_documents(documents)\n",
    "    print(f'Split {len(documents)} documents into {len(chunks)} chunks')\n",
    "    \n",
    "    # Demonstrate what a chunk looks like (not necessary code)\n",
    "    document = chunks[10]\n",
    "    print(document.page_content)\n",
    "    print(document.metadata)\n",
    "\n",
    "    return chunks\n",
    "\n",
    "chunks = split_text(docs)"
   ]
  },
  {
   "cell_type": "code",
   "execution_count": 20,
   "metadata": {},
   "outputs": [
    {
     "name": "stderr",
     "output_type": "stream",
     "text": [
      "Ingesting documents: 100%|██████████| 1000/1000 [06:04<00:00,  2.74it/s]"
     ]
    },
    {
     "name": "stdout",
     "output_type": "stream",
     "text": [
      "Saving DB\n",
      "Saved 6876 chunks to faiss_db.\n"
     ]
    },
    {
     "name": "stderr",
     "output_type": "stream",
     "text": [
      "\n"
     ]
    }
   ],
   "source": [
    "# Create a DB to later query each chunk. (Uses vector embeddings as the key)\n",
    "# Create vector embeddings for each chunk\n",
    "# Embeddings are vectors in an n-dimensonal space. Eg. similar words or chunks will point in similar directions.\n",
    "# Embeddings from OpenAI for example (but costs per x tokens) -> Alternative Embedding from Huggingface: Opensource & free \n",
    " \n",
    "embeddings = HuggingFaceEmbeddings(model_name=\"BAAI/bge-base-en-v1.5\")\n",
    "\n",
    "def save_to_faiss(chunks: list[Document]):\n",
    "    if os.path.exists(faiss_path):\n",
    "        # clear previous chroma dbs\n",
    "        print(\"Removing previous contents.\")\n",
    "        shutil.rmtree(faiss_path)\n",
    "\n",
    "    db = None\n",
    "    with tqdm(total=len(docs), desc=\"Ingesting documents\") as pbar:\n",
    "        for d in docs:\n",
    "            if db:\n",
    "                db.add_documents([d])\n",
    "            else:\n",
    "                db = FAISS.from_documents([d], embeddings)\n",
    "            pbar.update(1) \n",
    "\n",
    "    try:\n",
    "        # print(\"Creating VectorStore.\")\n",
    "        # db = FAISS.from_documents(docs, embeddings)\n",
    "        print(\"Saving DB\")\n",
    "        db.save_local(folder_path=\"faiss_db\", index_name=\"nasa_index\")\n",
    "        print(f'Saved {len(chunks)} chunks to {faiss_path}.')\n",
    "    except (ValueError, RuntimeError) as e:\n",
    "        print(\"Fiass store failed \\n\", e)\n",
    "\n",
    "save_to_faiss(chunks)"
   ]
  },
  {
   "cell_type": "code",
   "execution_count": 21,
   "metadata": {},
   "outputs": [
    {
     "data": {
      "text/plain": [
       "tensor([[0.3651]])"
      ]
     },
     "execution_count": 21,
     "metadata": {},
     "output_type": "execute_result"
    }
   ],
   "source": [
    "sentences = [\"This is an example sentence\", \"Each sentence has been converted\"]\n",
    "\n",
    "model = SentenceTransformer('sentence-transformers/all-MiniLM-L6-v2')\n",
    "embedding_1= model.encode(sentences[0], convert_to_tensor=True)\n",
    "embedding_2 = model.encode(sentences[1], convert_to_tensor=True)\n",
    "\n",
    "util.pytorch_cos_sim(embedding_1, embedding_2)"
   ]
  },
  {
   "cell_type": "code",
   "execution_count": null,
   "metadata": {},
   "outputs": [],
   "source": []
  }
 ],
 "metadata": {
  "kernelspec": {
   "display_name": ".venv",
   "language": "python",
   "name": "python3"
  },
  "language_info": {
   "codemirror_mode": {
    "name": "ipython",
    "version": 3
   },
   "file_extension": ".py",
   "mimetype": "text/x-python",
   "name": "python",
   "nbconvert_exporter": "python",
   "pygments_lexer": "ipython3",
   "version": "3.12.0"
  }
 },
 "nbformat": 4,
 "nbformat_minor": 2
}
