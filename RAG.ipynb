{
 "cells": [
  {
   "cell_type": "code",
   "execution_count": 27,
   "metadata": {},
   "outputs": [],
   "source": [
    "from langchain.prompts import PromptTemplate\n",
    "from langchain_core.output_parsers import StrOutputParser\n",
    "from langchain_core.runnables import RunnablePassthrough\n",
    "from langchain.llms import HuggingFacePipeline\n",
    "from langchain_community.vectorstores import FAISS\n",
    "from langchain.embeddings import HuggingFaceEmbeddings\n",
    "\n",
    "from transformers import AutoTokenizer, AutoModelForCausalLM, BitsAndBytesConfig, pipeline\n",
    "\n",
    "import torch"
   ]
  },
  {
   "cell_type": "code",
   "execution_count": 22,
   "metadata": {},
   "outputs": [
    {
     "name": "stderr",
     "output_type": "stream",
     "text": [
      "Special tokens have been added in the vocabulary, make sure the associated word embeddings are fine-tuned or trained.\n"
     ]
    }
   ],
   "source": [
    "# ToDo find a model that runs faster than  HuggingFaceH4/zephyr-7b-beta\n",
    "model_name = \"stabilityai/stablelm-zephyr-3b\"\n",
    "\n",
    "# If you have a GPU available you can use this code\n",
    "# bnb_config = BitsAndBytesConfig(load_in_4bit=True, bnb_4bit_use_double_quant=True, bnb_4bit_quant_type=\"nf4\", bnb_4bit_compute_dtype=torch.bfloat16)\n",
    "# model = AutoModelForCausalLM.from_pretrained(model_name, quantization_config=bnb_config)\n",
    "\n",
    "# Instantiate one of the model classes of the library (with a causal language modeling head) from a pretrained model.\n",
    "model = AutoModelForCausalLM.from_pretrained(model_name)\n",
    "# Instantiate one of the tokenizer classes of the library from a pretrained model vocabulary.\n",
    "tokenizer = AutoTokenizer.from_pretrained(model_name)"
   ]
  },
  {
   "cell_type": "code",
   "execution_count": 30,
   "metadata": {},
   "outputs": [],
   "source": [
    "# First, create a text_generation pipeline using the loaded model and its tokenizer.\n",
    "# The pipeline() makes it simple to use any model from the Hub for inference on language, and other tasks.\n",
    "\n",
    "text_generation_pipeline = pipeline(\n",
    "    model=model,\n",
    "    tokenizer=tokenizer,\n",
    "    task=\"text-generation\",\n",
    "    temperature=0.2,\n",
    "    do_sample=True,\n",
    "    repetition_penalty=1.1,\n",
    "    return_full_text=True,\n",
    "    max_new_tokens=400,\n",
    ")\n",
    "\n",
    "llm = HuggingFacePipeline(pipeline=text_generation_pipeline)"
   ]
  },
  {
   "cell_type": "code",
   "execution_count": 31,
   "metadata": {},
   "outputs": [],
   "source": [
    "# Create a prompt template\n",
    "# this should follow the format of the model, so make sure to use the appropriate formatting.\n",
    "prompt_template = \"\"\"\n",
    "<|system|>\n",
    "Answer the question based on your knowledge. Use the following context to help:\n",
    "\n",
    "{context}\n",
    "\n",
    "</s>\n",
    "<|user|>\n",
    "{question}\n",
    "</s>\n",
    "<|assistant|>\n",
    "\n",
    " \"\"\"\n",
    "\n",
    "prompt = PromptTemplate(\n",
    "    input_variables=[\"context\", \"question\"],\n",
    "    template=prompt_template,\n",
    ")\n",
    "\n",
    "llm_chain = prompt | llm | StrOutputParser()\n",
    "\n",
    "# You can also use tokenizer.apply_chat_template to convert a list of messages (as dicts: {'role': 'user', 'content': '(...)'})\n",
    "# into a string with the appropriate chat format."
   ]
  },
  {
   "cell_type": "code",
   "execution_count": 32,
   "metadata": {},
   "outputs": [
    {
     "name": "stderr",
     "output_type": "stream",
     "text": [
      "/Users/katie/Coding/NASA_RAG/.venv/lib/python3.12/site-packages/huggingface_hub/file_download.py:1132: FutureWarning: `resume_download` is deprecated and will be removed in version 1.0.0. Downloads always resume when possible. If you want to force a new download, use `force_download=True`.\n",
      "  warnings.warn(\n"
     ]
    }
   ],
   "source": [
    "# Finally, we need to combine the llm_chain with the retriever to create a RAG chain.\n",
    "# We pass the original question through to the final generation step, as well as the retrieved context docs\n",
    "embeddings = HuggingFaceEmbeddings(model_name=\"BAAI/bge-base-en-v1.5\")\n",
    "\n",
    "db = FAISS.load_local(folder_path=\"faiss_db/\", embeddings=embeddings, index_name=\"nasa_index\", allow_dangerous_deserialization=True)\n",
    "\n",
    "# This retriever returns the top 4 similar chunks\n",
    "retriever = db.as_retriever(search_type=\"similarity\", search_kwargs={\"k\": 4})\n",
    "\n",
    "rag_chain = {\"context\": retriever, \"question\": RunnablePassthrough()} | llm_chain"
   ]
  },
  {
   "cell_type": "code",
   "execution_count": 33,
   "metadata": {},
   "outputs": [],
   "source": [
    "question = \"Tell me about auroras.\"\n",
    "\n",
    "# Answer with just the model itself, no context added. Took too long to compute.\n",
    "#llm_chain.invoke({\"context\": \"\", \"question\": question})"
   ]
  },
  {
   "cell_type": "code",
   "execution_count": 34,
   "metadata": {},
   "outputs": [
    {
     "data": {
      "text/plain": [
       "\"\\n<|system|>\\nAnswer the question based on your knowledge. Use the following context to help:\\n\\n[Document(page_content='NASA-Supported Team Discovers Aurora-Like Radio Bursts Above Sunspot \\\\n On Earth (and other planets such as Jupiter and Saturn), auroras shimmer in the night sky when solar particles are caught up in the planet’s magnetic field and get pulled toward the poles, where magnetic field lines converge. As they accelerate poleward, the particles generate intense radio emissions at frequencies around a few hundred kilohertz and then smash into atoms in the atmosphere, causing them to emit light as auroras.', metadata={'source': 'nasa_articles/nasa_article_536.md'}), Document(page_content='An Aurora in Another Light \\\\n NASA/Lauren Dauphin and Wanmei Liang; NOAA\\\\n\\\\nThe Visible Infrared Imaging Radiometer Suite sensor on the NOAA-NASA Suomi NPP satellite captured this image of the aurora borealis, or northern lights, over western Canada at 3:23 a.m. MST (5:23 a.m. EST) on November 5, 2023.\\\\n\\\\nAuroras are colorful ribbons of light appearing in night skies, incited by a strong geomagnetic storm in Earth’s magnetosphere. Multiple coronal mass ejections from the Sun sent a surge of charged particles toward Earth. After colliding with Earth’s magnetosphere, some particles trapped in the magnetic field are accelerated into Earth’s upper atmosphere where they excite nitrogen and oxygen molecules and release photons of light, known as the aurora.\\\\n\\\\nIf you like watching displays such as these, you can help scientists verify aurora sightings so they can analyze and include them in space weather models.\\\\n\\\\nImage Credit: NASA/Lauren Dauphin and Wanmei Liang, NOAA', metadata={'source': 'nasa_articles/nasa_article_985.md'}), Document(page_content='St. Patrick’s Aurora Illuminates the Night Sky \\\\n This majestic image of the dazzling green lights of the aurora borealis was captured on March 17, 2015, around 5:30 a.m. EDT in Donnelly Creek, Alaska.\\\\n\\\\nThe aurora borealis and aurora australis, often called the northern lights and southern lights, are common occurrences at high northern and southern latitudes, less frequent at mid-latitudes, and seldom seen near the equator.\\\\n\\\\nThese colorful ribbons of light are the visible manifestation of the solar wind – the flow of charged particles from the Sun – interacting with the Earth’s magnetosphere. Strong geomagnetic storms stimulate our atmosphere and light up the night sky, creating auroras.\\\\n\\\\nSee how you can help track auroras around the world with the Aurorasaurus project.\\\\n\\\\nImage Credit: Sebastian Saarloos', metadata={'source': 'nasa_articles/nasa_article_514.md'}), Document(page_content='Making Ultra-fast Electron Measurements in Multiple Directions to Reveal the Secrets of the Aurora \\\\n The energetic electrons that drive the aurora borealis (the northern lights) have a rich and very dynamic structure that we currently do not fully understand. Much of what we know about these electrons comes from instruments that have fundamental limitations in their ability to sample multiple energies with high time resolution. To overcome these limitations, NASA is using an innovative approach to develop instrumentation that will enhance our measurement capabilities by more than an order of magnitude—revealing a wealth of new information about the amazing physics happening within the aurora.', metadata={'source': 'nasa_articles/nasa_article_315.md'})]\\n\\n</s>\\n<|user|>\\nTell me about auroras.\\n</s>\\n<|assistant|>\\n\\n  Aurora phenomena, commonly referred to as auroras, occur in the Earth's polar regions when charged particles from the Sun interact with the planet's magnetic field and get pulled towards the poles. These charged particles, primarily consisting of protons and electrons, get accelerated when they collide with the magnetic field, which causes them to radiate intense electromagnetic radiation at frequencies around a few hundred kilohertz. When these charged particles reach the Earth's upper atmosphere, they collide with atmospheric atoms, causing them to emit light, resulting in the beautiful auroral displays we observe in the night sky. \\n\\nThere are two main types of auroras: the Northern Lights (aurora borealis) and the Southern Lights (aurora australis). The Northern Lights are typically observed at higher latitudes, particularly around the Arctic Circle, while the Southern Lights are more commonly seen at lower latitudes, mainly in Australia, Antarctica, and the subpolar regions close to the equator. Both types of auroras result from the interaction between the Sun's charged particles and Earth's magnetic field. However, different factors, such as the strength of the solar activity and the orientation of the interplanetary magnetic field, may influence the type and intensity of the aurora.\\n\\nAuroras are not only visually stunning but also play an essential role in the Earth's radiation belts and space weather. They emit a significant amount of energy, contributing to the heating of the polar regions. Additionally, these radiations can interfere with communication systems and navigation equipment, making them important objects of study for researchers and scientists interested in understanding the complex interactions between the Earth's magnetic field, the Sun, and the atmosphere.\""
      ]
     },
     "execution_count": 34,
     "metadata": {},
     "output_type": "execute_result"
    }
   ],
   "source": [
    "# A RAG response considering our NASA context\n",
    "rag_chain.invoke(question)"
   ]
  },
  {
   "cell_type": "markdown",
   "metadata": {},
   "source": [
    "RAG response considering context:\n",
    "Aurora phenomena, commonly referred to as auroras, occur in the Earth's polar regions when charged particles from the Sun interact with the planet's magnetic field and get pulled towards the poles. These charged particles, primarily consisting of protons and electrons, get accelerated when they collide with the magnetic field, which causes them to radiate intense electromagnetic radiation at frequencies around a few hundred kilohertz. When these charged particles reach the Earth's upper atmosphere, they collide with atmospheric atoms, causing them to emit light, resulting in the beautiful auroral displays we observe in the night sky. \\n\\nThere are two main types of auroras: the Northern Lights (aurora borealis) and the Southern Lights (aurora australis). The Northern Lights are typically observed at higher latitudes, particularly around the Arctic Circle, while the Southern Lights are more commonly seen at lower latitudes, mainly in Australia, Antarctica, and the subpolar regions close to the equator. Both types of auroras result from the interaction between the Sun's charged particles and Earth's magnetic field. However, different factors, such as the strength of the solar activity and the orientation of the interplanetary magnetic field, may influence the type and intensity of the aurora.\\n\\nAuroras are not only visually stunning but also play an essential role in the Earth's radiation belts and space weather. They emit a significant amount of energy, contributing to the heating of the polar regions. Additionally, these radiations can interfere with communication systems and navigation equipment, making them important objects of study for researchers and scientists interested in understanding the complex interactions between the Earth's magnetic field, the Sun, and the atmosphere.\""
   ]
  },
  {
   "cell_type": "code",
   "execution_count": null,
   "metadata": {},
   "outputs": [],
   "source": []
  }
 ],
 "metadata": {
  "kernelspec": {
   "display_name": ".venv",
   "language": "python",
   "name": "python3"
  },
  "language_info": {
   "codemirror_mode": {
    "name": "ipython",
    "version": 3
   },
   "file_extension": ".py",
   "mimetype": "text/x-python",
   "name": "python",
   "nbconvert_exporter": "python",
   "pygments_lexer": "ipython3",
   "version": "3.12.0"
  }
 },
 "nbformat": 4,
 "nbformat_minor": 2
}
