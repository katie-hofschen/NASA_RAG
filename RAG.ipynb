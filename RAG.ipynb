{
 "cells": [
  {
   "cell_type": "code",
   "execution_count": 1,
   "metadata": {},
   "outputs": [],
   "source": [
    "from langchain.document_loaders import DirectoryLoader\n",
    "from langchain.text_splitter import RecursiveCharacterTextSplitter\n",
    "from langchain.schema import Document\n",
    "from langchain.embeddings import OpenAIEmbeddings\n",
    "# Set your OpenAI key as a environment variable and don't commit it to github.\n",
    "from langchain.vectorstores.chroma import Chroma\n",
    "from langchain.evaluation import load_evaluator\n",
    "import os\n",
    "import shutil\n",
    "import openai\n",
    " \n",
    "openai.api_key = os.getenv(\"OPENAI_API_KEY\")\n",
    "\n",
    "data_path = 'nasa_articles/'\n",
    "chroma_path = \"chroma\"\n",
    "\n"
   ]
  },
  {
   "cell_type": "code",
   "execution_count": 2,
   "metadata": {},
   "outputs": [],
   "source": [
    "def load_documents():\n",
    "    loader = DirectoryLoader(data_path, glob='*.md')\n",
    "    docs = loader.load()\n",
    "    return docs"
   ]
  },
  {
   "cell_type": "code",
   "execution_count": 3,
   "metadata": {},
   "outputs": [],
   "source": [
    "# Split the documents into chunks so we can retrieve information more granularly (rather than the entire document)\n",
    "# TODO find a reasonable chunk size for the articles\n",
    "\n",
    "def split_text(documents: list[Document]):\n",
    "    text_splitter = RecursiveCharacterTextSplitter(\n",
    "        chunk_size= 1000,\n",
    "        chunk_overlap = 500,\n",
    "        length_function = len,\n",
    "        add_start_index = True,\n",
    "    )\n",
    "\n",
    "    chunks = text_splitter.split_documemts(documents)\n",
    "    print(f'Split {len(documents)} documents into {len(chunks)} chunks')\n",
    "    \n",
    "    # Demonstrate what a chunk looks like (not necessary code)\n",
    "    document = chunks[10]\n",
    "    print(document.page_content)\n",
    "    print(document.metadata)\n",
    "\n",
    "    return chunks"
   ]
  },
  {
   "cell_type": "code",
   "execution_count": 4,
   "metadata": {},
   "outputs": [],
   "source": [
    "# Create a Chroma DB to query each chunk. (Uses vector embeddings as the key)\n",
    "# Using OpenAIEmbeddings with OpenAI account to create vector embeddings for each chunk\n",
    "# Embeddings are vectors in an n-dimensonal space. Eg. similar words or chunks will point in similar directions.\n",
    "\n",
    "def save_to_chroma(chunks: list[Document]):\n",
    "    if os.path.exists(chroma_path):\n",
    "    # clear previous chroma dbs\n",
    "        shutil.rmtree(chroma_path)\n",
    "\n",
    "    db = Chroma.from_documents(\n",
    "        chunks, OpenAIEmbeddings, persist_directory=chroma_path\n",
    "    )\n",
    "    # should automatically save but persist forces it to save\n",
    "    db.persist()\n",
    "    print(f'Saved {len(chunks)} chunks to {chroma_path}.')"
   ]
  },
  {
   "cell_type": "code",
   "execution_count": null,
   "metadata": {},
   "outputs": [],
   "source": [
    "# distance between 2 vectors (compare embedding distance)\n",
    "evaluator = load_evaluator(\"pairwise_embedding_distance\")\n",
    "# example evaluation\n",
    "x = evaluator.evaluate_string_pairs(prediction='apple', prediction_b='pie')"
   ]
  },
  {
   "cell_type": "code",
   "execution_count": null,
   "metadata": {},
   "outputs": [],
   "source": []
  }
 ],
 "metadata": {
  "kernelspec": {
   "display_name": ".venv",
   "language": "python",
   "name": "python3"
  },
  "language_info": {
   "codemirror_mode": {
    "name": "ipython",
    "version": 3
   },
   "file_extension": ".py",
   "mimetype": "text/x-python",
   "name": "python",
   "nbconvert_exporter": "python",
   "pygments_lexer": "ipython3",
   "version": "3.12.0"
  }
 },
 "nbformat": 4,
 "nbformat_minor": 2
}
