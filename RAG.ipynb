{
 "cells": [
  {
   "cell_type": "code",
   "execution_count": 29,
   "metadata": {},
   "outputs": [],
   "source": [
    "from langchain.document_loaders import DirectoryLoader\n",
    "from langchain.text_splitter import RecursiveCharacterTextSplitter\n",
    "from langchain.schema import Document\n",
    "from langchain.vectorstores.chroma import Chroma\n",
    "from langchain_nomic.embeddings import NomicEmbeddings\n",
    "from langchain.evaluation.embedding_distance.base import PairwiseEmbeddingDistanceEvalChain\n",
    "import os\n",
    "import shutil\n",
    "\n",
    "nomic_api_key = os.getenv(\"NOMIC_API_KEY\")\n",
    "\n",
    "data_path = 'nasa_articles/'\n",
    "chroma_path = \"chroma\"\n",
    "\n"
   ]
  },
  {
   "cell_type": "code",
   "execution_count": 30,
   "metadata": {},
   "outputs": [],
   "source": [
    "def load_documents():\n",
    "    loader = DirectoryLoader(data_path, glob='*.md')\n",
    "    docs = loader.load()\n",
    "    return docs"
   ]
  },
  {
   "cell_type": "code",
   "execution_count": 31,
   "metadata": {},
   "outputs": [],
   "source": [
    "# Split the documents into chunks so we can retrieve information more granularly (rather than the entire document)\n",
    "# TODO find a reasonable chunk size for the articles\n",
    "\n",
    "def split_text(documents: list[Document]):\n",
    "    text_splitter = RecursiveCharacterTextSplitter(\n",
    "        chunk_size= 1000,\n",
    "        chunk_overlap = 500,\n",
    "        length_function = len,\n",
    "        add_start_index = True,\n",
    "    )\n",
    "\n",
    "    chunks = text_splitter.split_documemts(documents)\n",
    "    print(f'Split {len(documents)} documents into {len(chunks)} chunks')\n",
    "    \n",
    "    # Demonstrate what a chunk looks like (not necessary code)\n",
    "    document = chunks[10]\n",
    "    print(document.page_content)\n",
    "    print(document.metadata)\n",
    "\n",
    "    return chunks"
   ]
  },
  {
   "cell_type": "code",
   "execution_count": 32,
   "metadata": {},
   "outputs": [],
   "source": [
    "# Create a Chroma DB to query each chunk. (Uses vector embeddings as the key)\n",
    "# Using OpenAIEmbeddings with OpenAI account to create vector embeddings for each chunk\n",
    "# Embeddings are vectors in an n-dimensonal space. Eg. similar words or chunks will point in similar directions.\n",
    "\n",
    "# Alternative Embedding: Opensource & free \n",
    "# https://docs.nomic.ai/atlas/capabilities/data-interface\n",
    "# https://python.langchain.com/v0.1/docs/integrations/text_embedding/nomic/\n",
    "embeddings = NomicEmbeddings(nomic_api_key=nomic_api_key, dimensionality=64, model=\"nomic-embed-text-v1.5\")\n",
    " \n",
    "def save_to_chroma(chunks: list[Document]):\n",
    "    if os.path.exists(chroma_path):\n",
    "    # clear previous chroma dbs\n",
    "        shutil.rmtree(chroma_path)\n",
    "\n",
    "    db = Chroma.from_documents(\n",
    "        chunks, embeddings, persist_directory=chroma_path\n",
    "    )\n",
    "    # should automatically save but persist forces it to save\n",
    "    db.persist()\n",
    "    print(f'Saved {len(chunks)} chunks to {chroma_path}.')"
   ]
  },
  {
   "cell_type": "code",
   "execution_count": null,
   "metadata": {},
   "outputs": [],
   "source": [
    "# Seems to use OPENAI, alternatively I could use my own distance functions from ML_from_scratch...\n",
    "# distance between 2 vectors (compare embedding distance)\n",
    "chain = PairwiseEmbeddingDistanceEvalChain() \n",
    "# example evaluation\n",
    "x = chain.evaluate_string_pairs(prediction='apple', prediction_b='pie')\n",
    "print(x)"
   ]
  },
  {
   "cell_type": "code",
   "execution_count": null,
   "metadata": {},
   "outputs": [],
   "source": []
  }
 ],
 "metadata": {
  "kernelspec": {
   "display_name": ".venv",
   "language": "python",
   "name": "python3"
  },
  "language_info": {
   "codemirror_mode": {
    "name": "ipython",
    "version": 3
   },
   "file_extension": ".py",
   "mimetype": "text/x-python",
   "name": "python",
   "nbconvert_exporter": "python",
   "pygments_lexer": "ipython3",
   "version": "3.12.0"
  }
 },
 "nbformat": 4,
 "nbformat_minor": 2
}
