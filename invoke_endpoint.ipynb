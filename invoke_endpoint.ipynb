{
 "cells": [
  {
   "cell_type": "code",
   "execution_count": 1,
   "metadata": {},
   "outputs": [
    {
     "name": "stdout",
     "output_type": "stream",
     "text": [
      "sagemaker.config INFO - Not applying SDK defaults from location: /Library/Application Support/sagemaker/config.yaml\n",
      "sagemaker.config INFO - Not applying SDK defaults from location: /Users/katie/Library/Application Support/sagemaker/config.yaml\n"
     ]
    }
   ],
   "source": [
    "import sagemaker\n",
    "import boto3\n",
    "import json\n",
    "\n",
    "boto_session = boto3.Session(profile_name='dev-profile')\n",
    "# sagemaker_session = sagemaker.Session(boto_session=session)\n",
    "\n",
    "# iam = boto_session.resource('iam')\n",
    "# role = iam.get_role(RoleName='sagemaker-execution-role')['Role']['Arn']"
   ]
  },
  {
   "cell_type": "markdown",
   "metadata": {},
   "source": [
    "Try: aws sagemaker-runtime invoke-endpoint --endpoint-name stablelm-zephyr-3b-endpoint --body '{\"inputs\": \"What is the capital of France?\"}' --content-type application/json output.json\n"
   ]
  },
  {
   "cell_type": "markdown",
   "metadata": {},
   "source": [
    "from transformers import DistilBertTokenizer, TFDistilBertForQuestionAnswering     \n",
    "import tensorflow as tf     \n",
    "\n",
    "tokenizer = DistilBertTokenizer.from_pretrained(\"distilbert-base-uncased-distilled-squad\")     \n",
    "model = TFDistilBertForQuestionAnswering.from_pretrained(\"distilbert-base-uncased-distilled-squad\")     \n",
    "\n",
    "question, text = \"Who was Jim Henson?\", \"Jim Henson was a nice puppet\"     \n",
    "\n",
    "inputs = tokenizer(question, text, return_tensors=\"tf\")      \n",
    "outputs = model(**inputs)     \n",
    "\n",
    "answer_start_index = int(tf.math.argmax(outputs.start_logits, axis=-1)[0])     \n",
    "answer_end_index = int(tf.math.argmax(outputs.end_logits, axis=-1)[0])     \n",
    "\n",
    "predict_answer_tokens = inputs.input_ids[0, answer_start_index : answer_end_index + 1]     \n",
    "tokenizer.decode(predict_answer_tokens)     "
   ]
  },
  {
   "cell_type": "code",
   "execution_count": 4,
   "metadata": {},
   "outputs": [
    {
     "name": "stdout",
     "output_type": "stream",
     "text": [
      "{\"score\":0.506294310092926,\"start\":0,\"end\":26,\"answer\":\"you are a smart dictionary\"}\n"
     ]
    }
   ],
   "source": [
    "client = boto_session.client(\"sagemaker-runtime\")\n",
    " \n",
    "# You can also get the endpoint name by inspecting the output of Terraform with terraform output \n",
    "# or going to the SageMaker service in the AWS Management console. \n",
    "ENDPOINT_NAME = \"distilbert-model-endpoint\"\n",
    " \n",
    "body={\"question\":\"List 3 synonyms for the word tiny.\", \"context\":\"Synonyms for tiny are small, minute, small-scale, mini, baby, fun-size, petite.\"}\n",
    "response = client.invoke_endpoint(\n",
    "            EndpointName=ENDPOINT_NAME,\n",
    "            ContentType=\"application/json\",\n",
    "            Accept=\"application/json\",\n",
    "            Body=json.dumps(body),\n",
    "        )\n",
    "print(response['Body'].read().decode('utf-8'))"
   ]
  }
 ],
 "metadata": {
  "kernelspec": {
   "display_name": ".venv",
   "language": "python",
   "name": "python3"
  },
  "language_info": {
   "codemirror_mode": {
    "name": "ipython",
    "version": 3
   },
   "file_extension": ".py",
   "mimetype": "text/x-python",
   "name": "python",
   "nbconvert_exporter": "python",
   "pygments_lexer": "ipython3",
   "version": "3.12.0"
  }
 },
 "nbformat": 4,
 "nbformat_minor": 2
}
